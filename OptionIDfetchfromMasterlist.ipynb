{
 "cells": [
  {
   "cell_type": "code",
   "execution_count": 4,
   "metadata": {},
   "outputs": [],
   "source": [
    "import polars as pl"
   ]
  },
  {
   "cell_type": "code",
   "execution_count": 25,
   "metadata": {},
   "outputs": [],
   "source": [
    "csvFile = \"./api-scrip-master.csv\"\n"
   ]
  },
  {
   "cell_type": "code",
   "execution_count": 57,
   "metadata": {},
   "outputs": [
    {
     "data": {
      "text/html": [
       "<div><style>\n",
       ".dataframe > thead > tr > th,\n",
       ".dataframe > tbody > tr > td {\n",
       "  text-align: right;\n",
       "}\n",
       "</style>\n",
       "<small>shape: (3, 13)</small><table border=\"1\" class=\"dataframe\"><thead><tr><th>SEM_EXM_EXCH_ID</th><th> SEM_SEGMENT</th><th>SEM_SMST_SECURITY_ID</th><th>SEM_INSTRUMENT_NAME</th><th>SEM_EXPIRY_CODE</th><th>SEM_TRADING_SYMBOL</th><th>SEM_LOT_UNITS</th><th>SEM_CUSTOM_SYMBOL</th><th>SEM_EXPIRY_DATE</th><th>SEM_STRIKE_PRICE</th><th>SEM_OPTION_TYPE</th><th>SEM_TICK_SIZE</th><th>SEM_EXPIRY_FLAG</th></tr><tr><td>str</td><td>str</td><td>i64</td><td>str</td><td>i64</td><td>str</td><td>f64</td><td>str</td><td>str</td><td>f64</td><td>str</td><td>f64</td><td>str</td></tr></thead><tbody><tr><td>&quot;BSE&quot;</td><td>&quot;C&quot;</td><td>10000002</td><td>&quot;FUTCUR&quot;</td><td>0</td><td>&quot;USDINROTC-26Ma…</td><td>1.0</td><td>&quot;USDINROTC 26 M…</td><td>&quot;2099-03-26 00:…</td><td>-0.01</td><td>&quot;XX&quot;</td><td>0.25</td><td>&quot;Q&quot;</td></tr><tr><td>&quot;BSE&quot;</td><td>&quot;C&quot;</td><td>10000003</td><td>&quot;FUTCUR&quot;</td><td>0</td><td>&quot;GBPINROTC-26Ma…</td><td>1.0</td><td>&quot;GBPINROTC 26 M…</td><td>&quot;2099-03-26 00:…</td><td>-0.01</td><td>&quot;XX&quot;</td><td>0.25</td><td>&quot;Q&quot;</td></tr><tr><td>&quot;BSE&quot;</td><td>&quot;C&quot;</td><td>10000005</td><td>&quot;FUTCUR&quot;</td><td>0</td><td>&quot;EURINROTC-26Ma…</td><td>1.0</td><td>&quot;EURINROTC 26 M…</td><td>&quot;2099-03-26 00:…</td><td>-0.01</td><td>&quot;XX&quot;</td><td>0.25</td><td>&quot;Q&quot;</td></tr></tbody></table></div>"
      ],
      "text/plain": [
       "shape: (3, 13)\n",
       "┌────────────┬────────────┬────────────┬────────────┬───┬────────────┬────────────┬────────────┬────────────┐\n",
       "│ SEM_EXM_EX ┆ SEM_SEGMEN ┆ SEM_SMST_S ┆ SEM_INSTRU ┆ … ┆ SEM_STRIKE ┆ SEM_OPTION ┆ SEM_TICK_S ┆ SEM_EXPIRY │\n",
       "│ CH_ID      ┆ T          ┆ ECURITY_ID ┆ MENT_NAME  ┆   ┆ _PRICE     ┆ _TYPE      ┆ IZE        ┆ _FLAG      │\n",
       "│ ---        ┆ ---        ┆ ---        ┆ ---        ┆   ┆ ---        ┆ ---        ┆ ---        ┆ ---        │\n",
       "│ str        ┆ str        ┆ i64        ┆ str        ┆   ┆ f64        ┆ str        ┆ f64        ┆ str        │\n",
       "╞════════════╪════════════╪════════════╪════════════╪═══╪════════════╪════════════╪════════════╪════════════╡\n",
       "│ BSE        ┆ C          ┆ 10000002   ┆ FUTCUR     ┆ … ┆ -0.01      ┆ XX         ┆ 0.25       ┆ Q          │\n",
       "│ BSE        ┆ C          ┆ 10000003   ┆ FUTCUR     ┆ … ┆ -0.01      ┆ XX         ┆ 0.25       ┆ Q          │\n",
       "│ BSE        ┆ C          ┆ 10000005   ┆ FUTCUR     ┆ … ┆ -0.01      ┆ XX         ┆ 0.25       ┆ Q          │\n",
       "└────────────┴────────────┴────────────┴────────────┴───┴────────────┴────────────┴────────────┴────────────┘"
      ]
     },
     "execution_count": 57,
     "metadata": {},
     "output_type": "execute_result"
    }
   ],
   "source": [
    "df = pl.read_csv(csvFile)\n",
    "df.head(3)"
   ]
  },
  {
   "cell_type": "code",
   "execution_count": 58,
   "metadata": {},
   "outputs": [],
   "source": [
    "df = df.filter((pl.col('SEM_INSTRUMENT_NAME') == \"FUTIDX\") &  (pl.col('SEM_EXM_EXCH_ID') == \"NSE\") & (pl.col('SEM_EXPIRY_DATE').str.contains(\"2023-07\")))"
   ]
  },
  {
   "cell_type": "code",
   "execution_count": 59,
   "metadata": {},
   "outputs": [
    {
     "data": {
      "text/html": [
       "<div><style>\n",
       ".dataframe > thead > tr > th,\n",
       ".dataframe > tbody > tr > td {\n",
       "  text-align: right;\n",
       "}\n",
       "</style>\n",
       "<small>shape: (4, 13)</small><table border=\"1\" class=\"dataframe\"><thead><tr><th>SEM_EXM_EXCH_ID</th><th> SEM_SEGMENT</th><th>SEM_SMST_SECURITY_ID</th><th>SEM_INSTRUMENT_NAME</th><th>SEM_EXPIRY_CODE</th><th>SEM_TRADING_SYMBOL</th><th>SEM_LOT_UNITS</th><th>SEM_CUSTOM_SYMBOL</th><th>SEM_EXPIRY_DATE</th><th>SEM_STRIKE_PRICE</th><th>SEM_OPTION_TYPE</th><th>SEM_TICK_SIZE</th><th>SEM_EXPIRY_FLAG</th></tr><tr><td>str</td><td>str</td><td>i64</td><td>str</td><td>i64</td><td>str</td><td>f64</td><td>str</td><td>str</td><td>f64</td><td>str</td><td>f64</td><td>str</td></tr></thead><tbody><tr><td>&quot;NSE&quot;</td><td>&quot;D&quot;</td><td>42692</td><td>&quot;FUTIDX&quot;</td><td>0</td><td>&quot;BANKNIFTY-Jul2…</td><td>15.0</td><td>&quot;BANKNIFTY JUL …</td><td>&quot;2023-07-27 14:…</td><td>-0.01</td><td>&quot;XX&quot;</td><td>5.0</td><td>&quot;M&quot;</td></tr><tr><td>&quot;NSE&quot;</td><td>&quot;D&quot;</td><td>42697</td><td>&quot;FUTIDX&quot;</td><td>0</td><td>&quot;NIFTY-Jul2023-…</td><td>50.0</td><td>&quot;NIFTY JUL FUT&quot;</td><td>&quot;2023-07-27 14:…</td><td>-0.01</td><td>&quot;XX&quot;</td><td>5.0</td><td>&quot;M&quot;</td></tr><tr><td>&quot;NSE&quot;</td><td>&quot;D&quot;</td><td>51097</td><td>&quot;FUTIDX&quot;</td><td>0</td><td>&quot;FINNIFTY-Jul20…</td><td>40.0</td><td>&quot;FINNIFTY JUL F…</td><td>&quot;2023-07-25 14:…</td><td>-0.01</td><td>&quot;XX&quot;</td><td>5.0</td><td>&quot;M&quot;</td></tr><tr><td>&quot;NSE&quot;</td><td>&quot;D&quot;</td><td>51098</td><td>&quot;FUTIDX&quot;</td><td>0</td><td>&quot;MIDCPNIFTY-Jul…</td><td>75.0</td><td>&quot;MIDCPNIFTY JUL…</td><td>&quot;2023-07-26 14:…</td><td>-0.01</td><td>&quot;XX&quot;</td><td>5.0</td><td>&quot;M&quot;</td></tr></tbody></table></div>"
      ],
      "text/plain": [
       "shape: (4, 13)\n",
       "┌────────────┬────────────┬────────────┬────────────┬───┬────────────┬────────────┬────────────┬────────────┐\n",
       "│ SEM_EXM_EX ┆ SEM_SEGMEN ┆ SEM_SMST_S ┆ SEM_INSTRU ┆ … ┆ SEM_STRIKE ┆ SEM_OPTION ┆ SEM_TICK_S ┆ SEM_EXPIRY │\n",
       "│ CH_ID      ┆ T          ┆ ECURITY_ID ┆ MENT_NAME  ┆   ┆ _PRICE     ┆ _TYPE      ┆ IZE        ┆ _FLAG      │\n",
       "│ ---        ┆ ---        ┆ ---        ┆ ---        ┆   ┆ ---        ┆ ---        ┆ ---        ┆ ---        │\n",
       "│ str        ┆ str        ┆ i64        ┆ str        ┆   ┆ f64        ┆ str        ┆ f64        ┆ str        │\n",
       "╞════════════╪════════════╪════════════╪════════════╪═══╪════════════╪════════════╪════════════╪════════════╡\n",
       "│ NSE        ┆ D          ┆ 42692      ┆ FUTIDX     ┆ … ┆ -0.01      ┆ XX         ┆ 5.0        ┆ M          │\n",
       "│ NSE        ┆ D          ┆ 42697      ┆ FUTIDX     ┆ … ┆ -0.01      ┆ XX         ┆ 5.0        ┆ M          │\n",
       "│ NSE        ┆ D          ┆ 51097      ┆ FUTIDX     ┆ … ┆ -0.01      ┆ XX         ┆ 5.0        ┆ M          │\n",
       "│ NSE        ┆ D          ┆ 51098      ┆ FUTIDX     ┆ … ┆ -0.01      ┆ XX         ┆ 5.0        ┆ M          │\n",
       "└────────────┴────────────┴────────────┴────────────┴───┴────────────┴────────────┴────────────┴────────────┘"
      ]
     },
     "execution_count": 59,
     "metadata": {},
     "output_type": "execute_result"
    }
   ],
   "source": [
    "df.head(10)"
   ]
  },
  {
   "cell_type": "code",
   "execution_count": null,
   "metadata": {},
   "outputs": [],
   "source": []
  }
 ],
 "metadata": {
  "kernelspec": {
   "display_name": "Python 3",
   "language": "python",
   "name": "python3"
  },
  "language_info": {
   "codemirror_mode": {
    "name": "ipython",
    "version": 3
   },
   "file_extension": ".py",
   "mimetype": "text/x-python",
   "name": "python",
   "nbconvert_exporter": "python",
   "pygments_lexer": "ipython3",
   "version": "3.11.4"
  },
  "orig_nbformat": 4
 },
 "nbformat": 4,
 "nbformat_minor": 2
}
